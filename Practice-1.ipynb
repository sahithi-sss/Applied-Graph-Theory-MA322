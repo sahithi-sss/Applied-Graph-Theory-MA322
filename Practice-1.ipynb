{
 "cells": [
  {
   "cell_type": "markdown",
   "id": "9f057982",
   "metadata": {},
   "source": [
    "* BFS\n",
    "\n",
    "* DFS\n",
    "\n",
    "* Dijkstra's algo\n",
    "\n",
    "* Bellman Ford's algo\n",
    "\n",
    "* union find \n",
    "\n",
    "* Kruskal's algo\n",
    "\n",
    "* Prim's algo\n",
    "\n"
   ]
  },
  {
   "cell_type": "code",
   "execution_count": 1,
   "id": "3b0b3669",
   "metadata": {},
   "outputs": [],
   "source": [
    "graph = {0:[1,2], 1:[0,3,4], 2:[0,5], 3:[1], 4:[1,5], 5:[2,4]}\n",
    "#graph as an adjacency list"
   ]
  },
  {
   "cell_type": "markdown",
   "id": "097ae906",
   "metadata": {},
   "source": [
    "### BFS"
   ]
  },
  {
   "cell_type": "code",
   "execution_count": 4,
   "id": "8bea0ad0",
   "metadata": {},
   "outputs": [
    {
     "name": "stdout",
     "output_type": "stream",
     "text": [
      "0 1 2 3 4 5 "
     ]
    }
   ],
   "source": [
    "from collections import deque\n",
    "\n",
    "def bfs (adj_list, start):\n",
    "    visited = set()\n",
    "    queue = deque([start])\n",
    "    visited.add(start)\n",
    "\n",
    "    while queue:\n",
    "        node = queue.popleft()\n",
    "        print(node, end = \" \")\n",
    "\n",
    "        for nbr in adj_list[node]:\n",
    "            if nbr not in visited:\n",
    "                visited.add(nbr)\n",
    "                queue.append(nbr)\n",
    "\n",
    "\n",
    "bfs(graph, 0)"
   ]
  },
  {
   "cell_type": "markdown",
   "id": "15eddde8",
   "metadata": {},
   "source": [
    "### DFS"
   ]
  },
  {
   "cell_type": "code",
   "execution_count": 6,
   "id": "94927ce8",
   "metadata": {},
   "outputs": [
    {
     "name": "stdout",
     "output_type": "stream",
     "text": [
      "0 1 3 4 5 2 "
     ]
    }
   ],
   "source": [
    "def dfs(adj_list, start):\n",
    "    visited = set()\n",
    "    stack = [start]\n",
    "\n",
    "    while stack:\n",
    "        node = stack.pop()\n",
    "        if node not in visited:\n",
    "            print(node, end=\" \")  # process the node\n",
    "            visited.add(node)\n",
    "\n",
    "            # push neighbors in reverse order to maintain natural order\n",
    "            for neighbor in reversed(adj_list[node]):\n",
    "                if neighbor not in visited:\n",
    "                    stack.append(neighbor)\n",
    "\n",
    "dfs(graph, 0)"
   ]
  }
 ],
 "metadata": {
  "kernelspec": {
   "display_name": ".venv",
   "language": "python",
   "name": "python3"
  },
  "language_info": {
   "codemirror_mode": {
    "name": "ipython",
    "version": 3
   },
   "file_extension": ".py",
   "mimetype": "text/x-python",
   "name": "python",
   "nbconvert_exporter": "python",
   "pygments_lexer": "ipython3",
   "version": "3.12.4"
  }
 },
 "nbformat": 4,
 "nbformat_minor": 5
}
