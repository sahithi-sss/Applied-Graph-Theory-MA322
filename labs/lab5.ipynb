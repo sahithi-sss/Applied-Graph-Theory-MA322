{
 "cells": [
  {
   "cell_type": "markdown",
   "id": "0dab8c47",
   "metadata": {},
   "source": [
    "Random Hypergraph Generation Write a function to generate a random n-\n",
    "uniform hypergraph given parameters (n, v, e), where:\n",
    "\n",
    "• n: size of each hyperedge,\n",
    "\n",
    "• v: total number of vertices,\n",
    "\n",
    "• e: number of hyperedges.\n",
    "\n",
    "Store the hypergraph as a list of hyperedges"
   ]
  },
  {
   "cell_type": "code",
   "execution_count": 68,
   "id": "7fdf85e8",
   "metadata": {},
   "outputs": [],
   "source": [
    "import random"
   ]
  },
  {
   "cell_type": "code",
   "execution_count": 74,
   "id": "efef7f98",
   "metadata": {},
   "outputs": [],
   "source": [
    "def random_hyp_gen(n, v, e):\n",
    "    arr_ver = []\n",
    "    for i in range(v):\n",
    "        arr_ver.append(i)\n",
    "\n",
    "    arr_edges = []\n",
    "    for i in range(e):\n",
    "        list_a = random.sample(arr_ver,n)\n",
    "        arr_edges.append(list_a.copy())\n",
    "        list_a.clear()\n",
    "    \"\"\"\n",
    "    for _ in range(len(arr_edges)):\n",
    "        print(arr_edges[_])\n",
    "    \"\"\"\n",
    "\n",
    "    return arr_edges\n",
    "\n",
    "hyper_edges = random_hyp_gen(5, 20, 6)\n",
    "    "
   ]
  },
  {
   "cell_type": "markdown",
   "id": "67dd5067",
   "metadata": {},
   "source": [
    "Random Coloring Randomly assign two colors (Red/Blue) to the vertices. Check\n",
    "if the coloring is proper: every hyperedge should contain both colors"
   ]
  },
  {
   "cell_type": "code",
   "execution_count": 75,
   "id": "977d5962",
   "metadata": {},
   "outputs": [],
   "source": [
    "def random_coloring(arr_edges):\n",
    "    arr_edge_colors = []\n",
    "    for i in range(len(arr_edges)):\n",
    "        single_edge_colors = []\n",
    "        for j in range(len(arr_edges[0])):\n",
    "            #2 coloring\n",
    "            # 0 = blue & 1 = red\n",
    "            color = random.randint(0,1)\n",
    "            single_edge_colors.append(color)\n",
    "        arr_edge_colors.append(single_edge_colors.copy())\n",
    "        single_edge_colors.clear()\n",
    "\n",
    "    \"\"\"\n",
    "    for _ in range(len(arr_edges)):\n",
    "        print(arr_edges[_]) \n",
    "        print(arr_edge_colors[_])\n",
    "        print(\"\\n\")\n",
    "    \"\"\"\n",
    "\n",
    "    return arr_edge_colors\n",
    "\n",
    "\n",
    "def coloring_check(arr_edge_colors,n):\n",
    "    #n = number (n = 3, v = 6, e = 5)of colors\n",
    "    validity = True\n",
    "    for i in range(len(arr_edge_colors)):\n",
    "        # i iterates thru edges\n",
    "        flag_blue = 0\n",
    "        flag_red = 0\n",
    "        for j in range(len(arr_edge_colors[0])):\n",
    "            #j iterates thru vertices of an edge\n",
    "            if arr_edge_colors[i][j] == 0:\n",
    "                flag_blue = 1\n",
    "            if arr_edge_colors[i][j] == 1:\n",
    "                flag_red = 1\n",
    "\n",
    "        #print(f\"flag_red{flag_red}\")\n",
    "        #print(f\"flag_blue{flag_blue}\")\n",
    "        \n",
    "        if flag_red != 1 or flag_blue != 1:\n",
    "            #print(\"invalid coloring\")\n",
    "            validity = False\n",
    "            break\n",
    "        #else:\n",
    "            #print(\"valid\")\n",
    "        \n",
    "    return validity\n",
    "\n"
   ]
  },
  {
   "cell_type": "code",
   "execution_count": 76,
   "id": "14281327",
   "metadata": {},
   "outputs": [
    {
     "data": {
      "text/plain": [
       "True"
      ]
     },
     "execution_count": 76,
     "metadata": {},
     "output_type": "execute_result"
    }
   ],
   "source": [
    "arr_edge_colors = random_coloring(hyper_edges)\n",
    "coloring_check(arr_edge_colors, 2)"
   ]
  },
  {
   "cell_type": "markdown",
   "id": "76f3f213",
   "metadata": {},
   "source": [
    "Repeated Trials : Repeat random coloring multiple times (e.g., 50 or 100 trials).\n",
    "\n",
    "• If at least one valid coloring is found, report: “Hypergraph is 2-colorable ”.\n",
    "\n",
    "• If no valid coloring is found, report: “Hypergraph is possibly non-2-colorable”."
   ]
  },
  {
   "cell_type": "markdown",
   "id": "e976701b",
   "metadata": {},
   "source": [
    "Generate and test hypergraphs with small param-\n",
    "eters, such as:\n",
    "\n",
    "(n = 3, v = 6, e = 5), (n = 3, v = 7, e = 7), (n = 4, v = 10, e = 12).\n",
    "\n",
    "Report whether proper 2-colorings were found, and discuss how increasing e affects the likelihood of non-2-colorability"
   ]
  },
  {
   "cell_type": "code",
   "execution_count": 96,
   "id": "372ac79d",
   "metadata": {},
   "outputs": [
    {
     "name": "stdout",
     "output_type": "stream",
     "text": [
      "- - - - - - - - - - - - - - - - - - - - - - - - - - - - \n",
      "\n",
      "number of 2 colorable graphs among 50 is 22\n"
     ]
    }
   ],
   "source": [
    "#(n = 3, v = 6, e = 5)\n",
    "hyper_edges = random_hyp_gen(3,6,5)\n",
    "res_validity_list = []\n",
    "for i in range(50):\n",
    "    arr_edge_colors = random_coloring(hyper_edges)\n",
    "    res_validity_list.append(coloring_check(arr_edge_colors, 2))\n",
    "number_of_2_colorable_graphs = 0\n",
    "for i in range(len(res_validity_list)):\n",
    "    if res_validity_list[i] == False:\n",
    "        print(\"-\",end=\" \")\n",
    "        #print(\"Hypergraph is possibly non-2-colorable\")\n",
    "    else:\n",
    "        #print(\"Hypergraph is 2-colorable\")\n",
    "        number_of_2_colorable_graphs += 1\n",
    "print(\"\\n\")\n",
    "print(f\"number of 2 colorable graphs among 50 is {number_of_2_colorable_graphs}\")\n"
   ]
  },
  {
   "cell_type": "code",
   "execution_count": 97,
   "id": "b2c8b4e8",
   "metadata": {},
   "outputs": [
    {
     "name": "stdout",
     "output_type": "stream",
     "text": [
      "- - - - - - - - - - - - - - - - - - - - - - - - - - - - - - - - - - - - - - - - - - - - - - \n",
      "\n",
      "number of 2 colorable graphs among 50 is 4\n"
     ]
    }
   ],
   "source": [
    "#(n = 3, v = 7, e = 7)\n",
    "hyper_edges = random_hyp_gen(3,7,7)\n",
    "res_validity_list = []\n",
    "for i in range(50):\n",
    "    arr_edge_colors = random_coloring(hyper_edges)\n",
    "    res_validity_list.append(coloring_check(arr_edge_colors, 2))\n",
    "number_of_2_colorable_graphs = 0\n",
    "for i in range(len(res_validity_list)):\n",
    "    if res_validity_list[i] == False:\n",
    "        print(\"-\",end=\" \")\n",
    "        #print(\"Hypergraph is possibly non-2-colorable\")\n",
    "    else:\n",
    "        #print(\"Hypergraph is 2-colorable\")\n",
    "        number_of_2_colorable_graphs += 1\n",
    "print(\"\\n\")\n",
    "print(f\"number of 2 colorable graphs among 50 is {number_of_2_colorable_graphs}\")\n",
    "\n"
   ]
  },
  {
   "cell_type": "code",
   "execution_count": 98,
   "id": "8dfdda7e",
   "metadata": {},
   "outputs": [
    {
     "name": "stdout",
     "output_type": "stream",
     "text": [
      "- - - - - - - - - - - - - - - - - - - - - - - - - - - - - - - - - - - - - - - - \n",
      "\n",
      "number of 2 colorable graphs among 50 is 10\n"
     ]
    }
   ],
   "source": [
    "#(n = 4, v = 10, e = 12)\n",
    "hyper_edges = random_hyp_gen(4,10,12)\n",
    "res_validity_list = []\n",
    "for i in range(50):\n",
    "    arr_edge_colors = random_coloring(hyper_edges)\n",
    "    res_validity_list.append(coloring_check(arr_edge_colors, 2))\n",
    "number_of_2_colorable_graphs = 0\n",
    "for i in range(len(res_validity_list)):\n",
    "    if res_validity_list[i] == False:\n",
    "        print(\"-\",end=\" \")\n",
    "        #print(\"Hypergraph is possibly non-2-colorable\")\n",
    "    else:\n",
    "        #print(\"Hypergraph is 2-colorable\")\n",
    "        number_of_2_colorable_graphs += 1\n",
    "print(\"\\n\")\n",
    "print(f\"number of 2 colorable graphs among 50 is {number_of_2_colorable_graphs}\")\n",
    "\n"
   ]
  },
  {
   "cell_type": "code",
   "execution_count": 108,
   "id": "9bc3d7f6",
   "metadata": {},
   "outputs": [
    {
     "name": "stdout",
     "output_type": "stream",
     "text": [
      "- - - - - - - - - - - - - - - - - - - - - - - - - - - - - - - - - - - - - - - - - - - - - - - - \n",
      "\n",
      "number of 2 colorable graphs among 50 iterations is 2\n"
     ]
    }
   ],
   "source": [
    "#(n = 5, v = 150, e = 50)\n",
    "hyper_edges = random_hyp_gen(5,150,51)\n",
    "res_validity_list = []\n",
    "for i in range(50):\n",
    "    arr_edge_colors = random_coloring(hyper_edges)\n",
    "    res_validity_list.append(coloring_check(arr_edge_colors, 2))\n",
    "number_of_2_colorable_graphs = 0\n",
    "for i in range(len(res_validity_list)):\n",
    "    if res_validity_list[i] == False:\n",
    "        print(\"-\",end=\" \")\n",
    "        #print(\"Hypergraph is possibly non-2-colorable\")\n",
    "    else:\n",
    "        #print(\"Hypergraph is 2-colorable\")\n",
    "        number_of_2_colorable_graphs += 1\n",
    "print(\"\\n\")\n",
    "print(f\"number of 2 colorable graphs among 50 iterations is {number_of_2_colorable_graphs}\")\n",
    "\n"
   ]
  }
 ],
 "metadata": {
  "kernelspec": {
   "display_name": "Python 3",
   "language": "python",
   "name": "python3"
  },
  "language_info": {
   "codemirror_mode": {
    "name": "ipython",
    "version": 3
   },
   "file_extension": ".py",
   "mimetype": "text/x-python",
   "name": "python",
   "nbconvert_exporter": "python",
   "pygments_lexer": "ipython3",
   "version": "3.10.12"
  }
 },
 "nbformat": 4,
 "nbformat_minor": 5
}
