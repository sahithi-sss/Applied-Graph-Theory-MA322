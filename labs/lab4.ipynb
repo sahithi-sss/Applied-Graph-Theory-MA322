{
 "cells": [
  {
   "cell_type": "markdown",
   "id": "2df4ea6b",
   "metadata": {},
   "source": [
    "### Ques 1"
   ]
  },
  {
   "cell_type": "code",
   "execution_count": 10,
   "id": "d242bc20",
   "metadata": {},
   "outputs": [
    {
     "data": {
      "text/plain": [
       "'Python implementation of Dijkstra’s algorithm extended to:\\n\\nWork on directed graphs.\\n\\nCompute all-pairs shortest paths.\\n\\nPrint all possible shortest paths if multiple exist.\\n\\nFrom a single source, identify edge-disjoint shortest paths.'"
      ]
     },
     "execution_count": 10,
     "metadata": {},
     "output_type": "execute_result"
    }
   ],
   "source": [
    "\"\"\"Python implementation of Dijkstra’s algorithm extended to:\n",
    "\n",
    "Work on directed graphs.\n",
    "\n",
    "Compute all-pairs shortest paths.\n",
    "\n",
    "Print all possible shortest paths if multiple exist.\n",
    "\n",
    "From a single source, identify edge-disjoint shortest paths.\"\"\""
   ]
  },
  {
   "cell_type": "code",
   "execution_count": null,
   "id": "1405b824",
   "metadata": {},
   "outputs": [
    {
     "name": "stdout",
     "output_type": "stream",
     "text": [
      "Shortest paths from 1 → 5:\n",
      "1 → 3 → 5 length = 6\n",
      "1 → 2 → 3 → 5 length = 6\n",
      "\n",
      "Edge-disjoint shortest path pairs:\n"
     ]
    }
   ],
   "source": [
    "import heapq\n",
    "from collections import defaultdict\n",
    "\n",
    "class Solution():\n",
    "    def dijkstra(self, adj, src=1):\n",
    "        pq = []\n",
    "        pq.append((0, src, [])) # path length, node, current_path\n",
    "        distances = {}\n",
    "        shortestPaths = defaultdict(list)\n",
    "\n",
    "        while pq:\n",
    "            path_len, node, cur_path = heapq.heappop(pq)\n",
    "            if node in distances and path_len > distances[node]:\n",
    "                continue\n",
    "            distances[node] = path_len\n",
    "            new_path = cur_path.copy()\n",
    "            new_path.append(node)\n",
    "            shortestPaths[node].append(new_path)\n",
    "\n",
    "            for nei, weight in adj[node]:\n",
    "                heapq.heappush(pq, (weight + path_len, nei, new_path))\n",
    "\n",
    "        return distances, shortestPaths\n",
    "    \n",
    "if __name__ == \"__main__\":\n",
    "    nodes, edges = list(map(int, input().split(\" \")))\n",
    "    adj = {node: [] for node in range(1, nodes+1)}\n",
    "    for _ in range(edges):\n",
    "        n1, n2, wt = list(map(int, input().split(\" \")))\n",
    "        adj[n1].append((n2, wt))\n",
    "    s = Solution()\n",
    "    src = 1\n",
    "    distances, shortestPaths = s.dijkstra(adj, src)\n",
    "    for i in range(1, nodes+1):\n",
    "        print(f\"Shortest Path from {src} to {i} is of length {distances[i]}. Possible paths: \", shortestPaths[i])"
   ]
  },
  {
   "cell_type": "markdown",
   "id": "8abb6944",
   "metadata": {},
   "source": [
    "### ques 2"
   ]
  },
  {
   "cell_type": "code",
   "execution_count": 9,
   "id": "093108a8",
   "metadata": {},
   "outputs": [
    {
     "data": {
      "text/plain": [
       "'Python implementation of Bidirectional Dijkstra’s algorithm with:\\n\\nForward Dijkstra from source s (Aragog).\\n\\nBackward Dijkstra from target t (Mosag).\\n\\nProper termination condition using \\n𝜇.\\n\\nPath reconstruction.'"
      ]
     },
     "execution_count": 9,
     "metadata": {},
     "output_type": "execute_result"
    }
   ],
   "source": [
    "\"\"\"Python implementation of Bidirectional Dijkstra’s algorithm with:\n",
    "\n",
    "Forward Dijkstra from source s (Aragog).\n",
    "\n",
    "Backward Dijkstra from target t (Mosag).\n",
    "\n",
    "Proper termination condition using \n",
    "𝜇.\n",
    "\n",
    "Path reconstruction.\"\"\""
   ]
  },
  {
   "cell_type": "code",
   "execution_count": null,
   "id": "129ba003",
   "metadata": {},
   "outputs": [],
   "source": [
    "import heapq\n",
    "from collections import defaultdict\n",
    "\n",
    "def bidirectional_dijkstra(n, edges, s, t):\n",
    "    # Build adjacency list (undirected graph)\n",
    "    graph = defaultdict(list)\n",
    "    for u, v, w in edges:\n",
    "        graph[u].append((v, w))\n",
    "        graph[v].append((u, w))\n",
    "\n",
    "    # Forward search (from source)\n",
    "    dist_f = [float('inf')] * (n + 1)\n",
    "    dist_f[s] = 0\n",
    "    pq_f = [(0, s)]\n",
    "    visited_f = set()\n",
    "    parent_f = {s: None}\n",
    "\n",
    "    # Reverse search (from target)\n",
    "    dist_r = [float('inf')] * (n + 1)\n",
    "    dist_r[t] = 0\n",
    "    pq_r = [(0, t)]\n",
    "    visited_r = set()\n",
    "    parent_r = {t: None}\n",
    "\n",
    "    # Best path length so far\n",
    "    mu = float('inf')\n",
    "    meeting_node = -1\n",
    "\n",
    "    while pq_f and pq_r:\n",
    "        # Current best priorities\n",
    "        topf = pq_f[0][0] if pq_f else float('inf')\n",
    "        topr = pq_r[0][0] if pq_r else float('inf')\n",
    "\n",
    "        # Stop if termination condition satisfied\n",
    "        if topf + topr >= mu:\n",
    "            break\n",
    "\n",
    "        # Expand forward frontier\n",
    "        if topf <= topr:\n",
    "            d, u = heapq.heappop(pq_f)\n",
    "            if u in visited_f:\n",
    "                continue\n",
    "            visited_f.add(u)\n",
    "\n",
    "            for v, w in graph[u]:\n",
    "                if dist_f[v] > dist_f[u] + w:\n",
    "                    dist_f[v] = dist_f[u] + w\n",
    "                    parent_f[v] = u\n",
    "                    heapq.heappush(pq_f, (dist_f[v], v))\n",
    "                # Check overlap condition\n",
    "                if v in visited_r:\n",
    "                    if dist_f[u] + w + dist_r[v] < mu:\n",
    "                        mu = dist_f[u] + w + dist_r[v]\n",
    "                        meeting_node = v\n",
    "\n",
    "        # Expand reverse frontier\n",
    "        else:\n",
    "            d, u = heapq.heappop(pq_r)\n",
    "            if u in visited_r:\n",
    "                continue\n",
    "            visited_r.add(u)\n",
    "\n",
    "            for v, w in graph[u]:\n",
    "                if dist_r[v] > dist_r[u] + w:\n",
    "                    dist_r[v] = dist_r[u] + w\n",
    "                    parent_r[v] = u\n",
    "                    heapq.heappush(pq_r, (dist_r[v], v))\n",
    "                # Check overlap condition\n",
    "                if v in visited_f:\n",
    "                    if dist_r[u] + w + dist_f[v] < mu:\n",
    "                        mu = dist_r[u] + w + dist_f[v]\n",
    "                        meeting_node = v\n",
    "\n",
    "    # ---------------- Reconstruct Path ----------------\n",
    "    if mu == float('inf'):\n",
    "        return None, []  # no path exists\n",
    "\n",
    "    # Build path s -> meeting_node\n",
    "    path_f = []\n",
    "    node = meeting_node\n",
    "    while node is not None:\n",
    "        path_f.append(node)\n",
    "        node = parent_f.get(node)\n",
    "    path_f.reverse()\n",
    "\n",
    "    # Build path meeting_node -> t\n",
    "    path_r = []\n",
    "    node = parent_r.get(meeting_node)\n",
    "    while node is not None:\n",
    "        path_r.append(node)\n",
    "        node = parent_r.get(node)\n",
    "\n",
    "    path = path_f + path_r\n",
    "    return mu, path\n",
    "\n"
   ]
  },
  {
   "cell_type": "code",
   "execution_count": null,
   "id": "fe2bbc18",
   "metadata": {},
   "outputs": [
    {
     "name": "stdout",
     "output_type": "stream",
     "text": [
      "Shortest distance from 1 to 6: 6\n",
      "Path: 1 -> 3 -> 4 -> 6\n"
     ]
    }
   ],
   "source": []
  },
  {
   "cell_type": "markdown",
   "id": "02fbd62b",
   "metadata": {},
   "source": [
    "### ques 3"
   ]
  },
  {
   "cell_type": "code",
   "execution_count": 7,
   "id": "338a4632",
   "metadata": {},
   "outputs": [
    {
     "data": {
      "text/plain": [
       "'We’ll use Breadth-First Search (BFS) with an extra dimension in the state to track whether Andy has already broken a wall.\\n\\nKey idea:\\n\\nEach BFS state = (x, y, wall_break_used)\\n\\nwall_break_used = 0 → no wall broken yet.\\n\\nwall_break_used = 1 → already broke one wall.\\n\\nFrom each cell:\\n\\nIf it’s 0 (corridor), move normally.\\n\\nIf it’s 1 (wall) and wall_break_used == 0, Andy can break it → move with wall_break_used = 1.\\n\\nTrack visited states as visited[x][y][wall_break_used].\\n\\nThis ensures we explore both possibilities (before and after breaking one wall).'"
      ]
     },
     "execution_count": 7,
     "metadata": {},
     "output_type": "execute_result"
    }
   ],
   "source": [
    "\"\"\"We’ll use Breadth-First Search (BFS) with an extra dimension in the state to track whether Andy has already broken a wall.\n",
    "\n",
    "Key idea:\n",
    "\n",
    "Each BFS state = (x, y, wall_break_used)\n",
    "\n",
    "wall_break_used = 0 → no wall broken yet.\n",
    "\n",
    "wall_break_used = 1 → already broke one wall.\n",
    "\n",
    "From each cell:\n",
    "\n",
    "If it’s 0 (corridor), move normally.\n",
    "\n",
    "If it’s 1 (wall) and wall_break_used == 0, Andy can break it → move with wall_break_used = 1.\n",
    "\n",
    "Track visited states as visited[x][y][wall_break_used].\n",
    "\n",
    "This ensures we explore both possibilities (before and after breaking one wall).\"\"\""
   ]
  },
  {
   "cell_type": "code",
   "execution_count": 11,
   "id": "87b293d0",
   "metadata": {},
   "outputs": [
    {
     "data": {
      "text/plain": [
       "'implemented BFS with an extra state to track whether Andy has already broken one wall.\\n\\nIf a wall is encountered and broken == 0, Andy can break it.\\n\\nOtherwise, he can only move through corridors.\\n\\nIf no escape is possible even after breaking a wall, it returns -1.'"
      ]
     },
     "execution_count": 11,
     "metadata": {},
     "output_type": "execute_result"
    }
   ],
   "source": [
    "\"\"\"implemented BFS with an extra state to track whether Andy has already broken one wall.\n",
    "\n",
    "If a wall is encountered and broken == 0, Andy can break it.\n",
    "\n",
    "Otherwise, he can only move through corridors.\n",
    "\n",
    "If no escape is possible even after breaking a wall, it returns -1.\"\"\""
   ]
  },
  {
   "cell_type": "code",
   "execution_count": 12,
   "id": "5c73810b",
   "metadata": {},
   "outputs": [],
   "source": [
    "from collections import deque\n",
    "\n",
    "def shortest_escape_with_one_wall(grid):\n",
    "    h, w = len(grid), len(grid[0])\n",
    "\n",
    "    # visited[x][y][k] → visited at (x,y) with k walls broken\n",
    "    visited = [[[False]*2 for _ in range(w)] for _ in range(h)]\n",
    "\n",
    "    # BFS queue: (x, y, steps, wall_break_used)\n",
    "    q = deque([(0, 0, 1, 0)])  # start with step=1 at (0,0)\n",
    "    visited[0][0][0] = True\n",
    "\n",
    "    # directions: up, down, left, right\n",
    "    directions = [(1,0), (-1,0), (0,1), (0,-1)]\n",
    "\n",
    "    while q:\n",
    "        x, y, steps, broken = q.popleft()\n",
    "\n",
    "        # reached goal\n",
    "        if x == h-1 and y == w-1:\n",
    "            return steps\n",
    "\n",
    "        for dx, dy in directions:\n",
    "            nx, ny = x+dx, y+dy\n",
    "            if 0 <= nx < h and 0 <= ny < w:\n",
    "                # corridor\n",
    "                if grid[nx][ny] == 0 and not visited[nx][ny][broken]:\n",
    "                    visited[nx][ny][broken] = True\n",
    "                    q.append((nx, ny, steps+1, broken))\n",
    "\n",
    "                # wall, but we can break it\n",
    "                if grid[nx][ny] == 1 and broken == 0 and not visited[nx][ny][1]:\n",
    "                    visited[nx][ny][1] = True\n",
    "                    q.append((nx, ny, steps+1, 1))\n",
    "\n",
    "    return -1  # no escape possible\n",
    "\n",
    "\n",
    "\n"
   ]
  },
  {
   "cell_type": "code",
   "execution_count": 13,
   "id": "e4626680",
   "metadata": {},
   "outputs": [
    {
     "name": "stdout",
     "output_type": "stream",
     "text": [
      "7\n",
      "5\n"
     ]
    }
   ],
   "source": [
    "# ---------------- Sample Runs ----------------\n",
    "if __name__ == \"__main__\":\n",
    "    # Example 1 (from problem)\n",
    "    grid1 = [\n",
    "        [0,1,0,0],\n",
    "        [0,1,0,1],\n",
    "        [0,0,0,1],\n",
    "        [1,1,0,0]\n",
    "    ]\n",
    "    print(shortest_escape_with_one_wall(grid1))  # Expected: 6\n",
    "\n",
    "    # Example 2 (no walls to break)\n",
    "    grid2 = [\n",
    "        [0,0,0],\n",
    "        [0,0,0],\n",
    "        [0,0,0]\n",
    "    ]\n",
    "    print(shortest_escape_with_one_wall(grid2))  # Expected: 5 (straight path)"
   ]
  }
 ],
 "metadata": {
  "kernelspec": {
   "display_name": ".venv",
   "language": "python",
   "name": "python3"
  },
  "language_info": {
   "codemirror_mode": {
    "name": "ipython",
    "version": 3
   },
   "file_extension": ".py",
   "mimetype": "text/x-python",
   "name": "python",
   "nbconvert_exporter": "python",
   "pygments_lexer": "ipython3",
   "version": "3.12.4"
  }
 },
 "nbformat": 4,
 "nbformat_minor": 5
}
