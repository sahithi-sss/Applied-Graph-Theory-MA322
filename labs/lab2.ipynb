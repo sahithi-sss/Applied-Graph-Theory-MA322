{
 "cells": [
  {
   "cell_type": "markdown",
   "id": "b3008d78",
   "metadata": {},
   "source": [
    "Q.1 Bipartonia Citizens Grouping-\n",
    "\n",
    "In the futuristic city of Bipartonia, the city planners want to divide the citizens into\n",
    "two distinct groups — the Blue Group and the Red Group — such that no two friends\n",
    "end up in the same group. The friendship network of the citizens can be represented as\n",
    "an undirected graph where each node is a citizen and each edge represents a friendship.\n",
    "Your task is to determine whether such a division is possible. If it is possible, output\n",
    "“Yes”; otherwise, output “No”.\n",
    "\n",
    "Input Format:\n",
    "\n",
    "• The first line contains two integers N and M — the number of citizens (nodes) and\n",
    "the number of friendships (edges).\n",
    "\n",
    "• The next M lines each contain two integers u and v — denoting that citizen u and\n",
    "citizen v are friends.\n",
    "\n",
    "Constraints:\n",
    "1 ≤ N ≤ 105 | 0 ≤ M ≤ 2 × 105 | 1 ≤ u, v ≤ N\n",
    "\n",
    "No self-loops or multiple edges.\n",
    "\n",
    "Output Format:\n",
    "\n",
    "• Print “Yes” if it is possible to assign the citizens to two groups such that no friends\n",
    "are in the same group.\n",
    "\n",
    "• Otherwise, print “No”.\n",
    "\n",
    "Sample Input 1:\n",
    "\n",
    "4 4\n",
    "\n",
    "1 2\n",
    "\n",
    "2 3\n",
    "\n",
    "3 4\n",
    "\n",
    "4 1\n",
    "\n",
    "Sample Output 1:\n",
    "\n",
    "Yes\n",
    "\n",
    "\n",
    "Sample Input 2:\n",
    "\n",
    "3 3\n",
    "\n",
    "1 2\n",
    "\n",
    "2 3\n",
    "\n",
    "3 1\n",
    "\n",
    "Sample Output 2:\n",
    "\n",
    "No\n",
    "\n",
    "Note: The city’s network may be disconnected. You must check all connected components."
   ]
  },
  {
   "cell_type": "code",
   "execution_count": 8,
   "id": "6f6e0b93",
   "metadata": {},
   "outputs": [
    {
     "name": "stdout",
     "output_type": "stream",
     "text": [
      "Yes\n"
     ]
    }
   ],
   "source": [
    "from collections import deque\n",
    "\n",
    "def is_bipartite(n, adj):\n",
    "    color = [-1] * (n + 1)   # -1 means uncolored, 0 and 1 are the two groups\n",
    "    \n",
    "    for start in range(1, n + 1):\n",
    "        if color[start] == -1:   # new component\n",
    "            queue = deque([start])\n",
    "            color[start] = 0\n",
    "            while queue:\n",
    "                node = queue.popleft()\n",
    "                for neighbor in adj[node]:\n",
    "                    if color[neighbor] == -1:   # not colored yet\n",
    "                        color[neighbor] = 1 - color[node]\n",
    "                        queue.append(neighbor)\n",
    "                    elif color[neighbor] == color[node]:\n",
    "                        return False\n",
    "    return True\n",
    "\n",
    "# Main\n",
    "if __name__ == \"__main__\":\n",
    "    test_input = \"\"\"4 4\n",
    "    1 2\n",
    "    2 3\n",
    "    3 4\n",
    "    4 1\"\"\"\n",
    "    data = test_input.strip().split(\"\\n\") #only req for jupyternbks\"\n",
    "    n, m = map(int, data[0].split())  #for ipynb\n",
    "    #n, m = map(int, input().split())  # for regular python file\n",
    "    adj = [[] for _ in range(n + 1)]\n",
    "    \n",
    "    #for ipynb\n",
    "    for i in range(1, m + 1):  # loop from line 1 to m\n",
    "        u, v = map(int, data[i].split())\n",
    "        adj[u].append(v)\n",
    "        adj[v].append(u)\n",
    "\n",
    "    \"\"\"\n",
    "    #for py file\n",
    "    for _ in range(m):\n",
    "        u, v = map(int, input().split()) #for py file\n",
    "        adj[u].append(v)\n",
    "        adj[v].append(u)\n",
    "        \"\"\"\n",
    "    \n",
    "    if is_bipartite(n, adj):\n",
    "        print(\"Yes\")\n",
    "    else:\n",
    "        print(\"No\")\n"
   ]
  },
  {
   "cell_type": "markdown",
   "id": "69cd77d9",
   "metadata": {},
   "source": [
    "### Ques 2"
   ]
  },
  {
   "cell_type": "code",
   "execution_count": 1,
   "id": "03c3e4f0",
   "metadata": {},
   "outputs": [
    {
     "data": {
      "text/plain": [
       "'This is a cycle detection problem in an undirected graph.\\nWe can solve it using DFS (depth-first search). The idea:\\n\\nTraverse the graph.\\n\\nIf we visit an already visited node that is not the parent, then a cycle exists.\\n\\nTo reconstruct the cycle, we keep track of the path (using parent pointers).'"
      ]
     },
     "execution_count": 1,
     "metadata": {},
     "output_type": "execute_result"
    }
   ],
   "source": [
    "\"\"\"This is a cycle detection problem in an undirected graph.\n",
    "We can solve it using DFS (depth-first search). The idea:\n",
    "\n",
    "Traverse the graph.\n",
    "\n",
    "If we visit an already visited node that is not the parent, then a cycle exists.\n",
    "\n",
    "To reconstruct the cycle, we keep track of the path (using parent pointers).\"\"\""
   ]
  },
  {
   "cell_type": "code",
   "execution_count": null,
   "id": "a41aec0f",
   "metadata": {},
   "outputs": [],
   "source": [
    "from collections import defaultdict\n",
    "#import sys\n",
    "#sys.setrecursionlimit(10**6)  # allow deep recursion for large graphs\n",
    "\n",
    "def find_cycle(n, edges):\n",
    "    # Build adjacency list for the graph\n",
    "    graph = defaultdict(list)\n",
    "    for u, v in edges:\n",
    "        graph[u].append(v)\n",
    "        graph[v].append(u)  # because roads are two-way (undirected)\n",
    "\n",
    "    visited = [False] * (n + 1)   # track whether a node has been visited\n",
    "    parent = [-1] * (n + 1)       # store parent of each node in DFS tree\n",
    "    \n",
    "    def dfs(u):\n",
    "        \"\"\"Depth-First Search to detect cycle\"\"\"\n",
    "        visited[u] = True\n",
    "        for v in graph[u]:\n",
    "            if not visited[v]:\n",
    "                # First time visiting this neighbor\n",
    "                parent[v] = u   # mark parent\n",
    "                if dfs(v):      # recurse deeper\n",
    "                    return True\n",
    "            elif parent[u] != v:\n",
    "                # If neighbor is already visited and it's NOT the parent,\n",
    "                # we have found a cycle\n",
    "                cycle = [v, u]      # start cycle path with (v -> u)\n",
    "                x = parent[u]       # climb back using parent links\n",
    "                while x != -1 and x != v:\n",
    "                    cycle.append(x)\n",
    "                    x = parent[x]\n",
    "                cycle.append(v)     # close the cycle by coming back to v\n",
    "                cycle.reverse()     # reverse to get correct order\n",
    "                print(\"Yes\")\n",
    "                print(\" \".join(map(str, cycle)))\n",
    "                return True\n",
    "        return False\n",
    "\n",
    "    # Try DFS from every unvisited node (graph may be disconnected)\n",
    "    for i in range(1, n + 1):\n",
    "        if not visited[i]:\n",
    "            if dfs(i):\n",
    "                return\n",
    "    \n",
    "    # If no cycle found in any component\n",
    "    print(\"No\")\n"
   ]
  },
  {
   "cell_type": "code",
   "execution_count": 7,
   "id": "a672c60b",
   "metadata": {},
   "outputs": [
    {
     "name": "stdout",
     "output_type": "stream",
     "text": [
      "Yes\n",
      "1 2 3 4 1\n"
     ]
    }
   ],
   "source": [
    "n, m = 5, 5\n",
    "edges = [(1, 2), (2, 3), (3, 4), (4, 1), (4, 5)]\n",
    "find_cycle(n, edges)"
   ]
  },
  {
   "cell_type": "code",
   "execution_count": 8,
   "id": "76e9e42c",
   "metadata": {},
   "outputs": [
    {
     "name": "stdout",
     "output_type": "stream",
     "text": [
      "No\n"
     ]
    }
   ],
   "source": [
    "n, m = 4, 3\n",
    "edges = [(1, 2), (2, 3), (3, 4)]\n",
    "find_cycle(n, edges)"
   ]
  },
  {
   "cell_type": "markdown",
   "id": "8b10e2f5",
   "metadata": {},
   "source": [
    "### Ques 3\n"
   ]
  },
  {
   "cell_type": "code",
   "execution_count": 9,
   "id": "e9eb98c3",
   "metadata": {},
   "outputs": [
    {
     "data": {
      "text/plain": [
       "'This is the classic Knight’s Minimum Moves problem, which can be solved using BFS (Breadth-First Search).\\n\\nWhy BFS?\\n\\nEach knight move has equal cost (1 move).\\n\\nBFS explores all positions layer by layer, guaranteeing the first time we reach the target is the shortest path.'"
      ]
     },
     "execution_count": 9,
     "metadata": {},
     "output_type": "execute_result"
    }
   ],
   "source": [
    "\"\"\"This is the classic Knight’s Minimum Moves problem, which can be solved using BFS (Breadth-First Search).\n",
    "\n",
    "Why BFS?\n",
    "\n",
    "Each knight move has equal cost (1 move).\n",
    "\n",
    "BFS explores all positions layer by layer, guaranteeing the first time we reach the target is the shortest path.\"\"\""
   ]
  },
  {
   "cell_type": "code",
   "execution_count": 10,
   "id": "176cee37",
   "metadata": {},
   "outputs": [],
   "source": [
    "from collections import deque\n",
    "\n",
    "def min_knight_moves(N, start, target):\n",
    "    # All 8 possible knight moves\n",
    "    moves = [\n",
    "        (2, 1), (1, 2), (-1, 2), (-2, 1),\n",
    "        (-2, -1), (-1, -2), (1, -2), (2, -1)\n",
    "    ]\n",
    "    \n",
    "    # If knight is already at the target position\n",
    "    if start == target:\n",
    "        return 0\n",
    "    \n",
    "    # Visited set to keep track of visited cells\n",
    "    visited = [[False] * (N + 1) for _ in range(N + 1)]\n",
    "    \n",
    "    # BFS queue: each element is (x, y, distance_so_far)\n",
    "    queue = deque()\n",
    "    x, y = start\n",
    "    queue.append((x, y, 0))\n",
    "    visited[x][y] = True\n",
    "    \n",
    "    # BFS traversal\n",
    "    while queue:\n",
    "        cx, cy, dist = queue.popleft()\n",
    "        \n",
    "        # Explore all knight moves\n",
    "        for dx, dy in moves:\n",
    "            nx, ny = cx + dx, cy + dy\n",
    "            # Check if new position is inside the board\n",
    "            if 1 <= nx <= N and 1 <= ny <= N and not visited[nx][ny]:\n",
    "                if (nx, ny) == target:\n",
    "                    return dist + 1  # reached target\n",
    "                visited[nx][ny] = True\n",
    "                queue.append((nx, ny, dist + 1))\n",
    "    \n",
    "    # If somehow the target is unreachable (shouldn't happen in normal chessboard)\n",
    "    return -1"
   ]
  },
  {
   "cell_type": "code",
   "execution_count": 11,
   "id": "e12cd190",
   "metadata": {},
   "outputs": [
    {
     "name": "stdout",
     "output_type": "stream",
     "text": [
      "6\n"
     ]
    }
   ],
   "source": [
    "N = 8\n",
    "start = (1, 1)\n",
    "target = (8, 8)\n",
    "print(min_knight_moves(N, start, target))"
   ]
  },
  {
   "cell_type": "code",
   "execution_count": 12,
   "id": "df7a3b22",
   "metadata": {},
   "outputs": [
    {
     "name": "stdout",
     "output_type": "stream",
     "text": [
      "1\n"
     ]
    }
   ],
   "source": [
    "N = 5\n",
    "start = (1, 1)\n",
    "target = (3, 2)\n",
    "print(min_knight_moves(N, start, target))"
   ]
  }
 ],
 "metadata": {
  "kernelspec": {
   "display_name": ".venv",
   "language": "python",
   "name": "python3"
  },
  "language_info": {
   "codemirror_mode": {
    "name": "ipython",
    "version": 3
   },
   "file_extension": ".py",
   "mimetype": "text/x-python",
   "name": "python",
   "nbconvert_exporter": "python",
   "pygments_lexer": "ipython3",
   "version": "3.12.4"
  }
 },
 "nbformat": 4,
 "nbformat_minor": 5
}
