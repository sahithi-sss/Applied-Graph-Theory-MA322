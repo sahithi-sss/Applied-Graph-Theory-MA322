{
 "cells": [
  {
   "cell_type": "markdown",
   "id": "a2751923",
   "metadata": {},
   "source": [
    "Build a binary tree (not necessarily a BST), convert it into an undirected graph,\n",
    "and compute its diameter using BFS.\n",
    "\n",
    "[Note: The diameter of a tree is the number of edges on the longest path between any two\n",
    "nodes in the tree. ]\n",
    "\n",
    "Problem Statement:\n",
    "\n",
    "1. Tree Construction:\n",
    "\n",
    "• Construct a binary rooted tree using pointers.\n",
    "\n",
    "• Node values may be repeated, so pointers must be used to uniquely identify nodes.\n",
    "\n",
    "2. Graph Conversion:\n",
    "\n",
    "• Convert the tree into an undirected graph, where each node is represented by its\n",
    "pointer.\n",
    "\n",
    "• Use an adjacency list for graph representation.\n",
    "\n",
    "3. Diameter Computation:\n",
    "\n",
    "• Use two BFS passes to compute the tree’s diameter (the longest path between\n",
    "any two nodes).\n",
    "\n",
    "• For explanation of the method, refer to:\n",
    "\n",
    "Why two BFS work to find the diameter of a tree (StackExchange)\n",
    "\n",
    "Expected Output:\n",
    "\n",
    "Diameter of the tree: <number_of_edges>"
   ]
  },
  {
   "cell_type": "code",
   "execution_count": 1,
   "id": "38493a4e",
   "metadata": {},
   "outputs": [],
   "source": [
    "from collections import deque, defaultdict\n",
    "\n",
    "# Step 1: Define the Binary Tree Node\n",
    "class TreeNode:\n",
    "    def __init__(self, val):\n",
    "        self.val = val\n",
    "        self.left = None\n",
    "        self.right = None\n",
    "\n",
    "\n",
    "# Step 2: Convert tree into adjacency list (undirected graph)\n",
    "def build_graph(root):\n",
    "    adj = defaultdict(list)\n",
    "\n",
    "    def dfs(node):\n",
    "        if not node:\n",
    "            return\n",
    "        if node.left:\n",
    "            adj[node].append(node.left)\n",
    "            adj[node.left].append(node)\n",
    "            dfs(node.left)\n",
    "        if node.right:\n",
    "            adj[node].append(node.right)\n",
    "            adj[node.right].append(node)\n",
    "            dfs(node.right)\n",
    "\n",
    "    dfs(root)\n",
    "    return adj\n",
    "\n",
    "\n",
    "# Step 3: BFS function to find farthest node and distance\n",
    "def bfs(start, adj):\n",
    "    visited = set()\n",
    "    q = deque([(start, 0)])\n",
    "    visited.add(start)\n",
    "    farthest_node, max_dist = start, 0\n",
    "\n",
    "    while q:\n",
    "        node, dist = q.popleft()\n",
    "        if dist > max_dist:\n",
    "            farthest_node, max_dist = node, dist\n",
    "        for nei in adj[node]:\n",
    "            if nei not in visited:\n",
    "                visited.add(nei)\n",
    "                q.append((nei, dist + 1))\n",
    "    return farthest_node, max_dist\n",
    "\n",
    "\n",
    "# Step 4: Diameter computation using 2 BFS passes\n",
    "def tree_diameter(root):\n",
    "    if not root:\n",
    "        return 0\n",
    "    adj = build_graph(root)\n",
    "    # First BFS: from any node (root) to farthest node\n",
    "    farthest, _ = bfs(root, adj)\n",
    "    # Second BFS: from farthest node found to get diameter\n",
    "    _, diameter = bfs(farthest, adj)\n",
    "    return diameter\n"
   ]
  },
  {
   "cell_type": "code",
   "execution_count": 2,
   "id": "f78aa5eb",
   "metadata": {},
   "outputs": [
    {
     "name": "stdout",
     "output_type": "stream",
     "text": [
      "Diameter of the tree: 3\n"
     ]
    }
   ],
   "source": [
    "if __name__ == \"__main__\":\n",
    "    root = TreeNode(1)\n",
    "    root.left = TreeNode(2)\n",
    "    root.right = TreeNode(3)\n",
    "    root.left.left = TreeNode(4)\n",
    "    root.left.right = TreeNode(5)\n",
    "\n",
    "    print(\"Diameter of the tree:\", tree_diameter(root))"
   ]
  },
  {
   "cell_type": "markdown",
   "id": "063699e7",
   "metadata": {},
   "source": [
    "Implement the Breadth First Search (BFS) and Depth First Search (DFS) algorithms on an undirected graph.\n",
    "\n",
    "• Represent the graph using an adjacency list.\n",
    "\n",
    "• Implement:\n",
    "\n",
    "– BFS traversal starting from a given node\n",
    "\n",
    "– DFS traversal starting from a given node\n",
    "\n",
    "• Display the order of visited nodes for both traversals."
   ]
  },
  {
   "cell_type": "code",
   "execution_count": 3,
   "id": "3d6679d6",
   "metadata": {},
   "outputs": [],
   "source": [
    "from collections import deque\n",
    "\n",
    "# BFS Traversal\n",
    "def bfs(adj_list, start):\n",
    "    visited = set()\n",
    "    queue = deque([start])\n",
    "    visited.add(start)\n",
    "\n",
    "    print(\"BFS Traversal:\", end=\" \")\n",
    "    while queue:\n",
    "        node = queue.popleft()\n",
    "        print(node, end=\" \")\n",
    "\n",
    "        for nbr in adj_list[node]:\n",
    "            if nbr not in visited:\n",
    "                visited.add(nbr)\n",
    "                queue.append(nbr)\n",
    "    print()  # newline"
   ]
  },
  {
   "cell_type": "code",
   "execution_count": 7,
   "id": "91ff58d1",
   "metadata": {},
   "outputs": [],
   "source": [
    "# DFS Traversal\n",
    "def dfs(adj_list, start):\n",
    "    visited = set()\n",
    "    stack = [start]\n",
    "\n",
    "    print(\"DFS Traversal:\", end=\" \")\n",
    "    while stack:\n",
    "        node = stack.pop()\n",
    "        if node not in visited:\n",
    "            print(node, end=\" \")  \n",
    "            visited.add(node)\n",
    "\n",
    "            for neighbor in reversed(adj_list[node]):\n",
    "                if neighbor not in visited:\n",
    "                    stack.append(neighbor)\n",
    "    print() \n"
   ]
  },
  {
   "cell_type": "code",
   "execution_count": 8,
   "id": "ceaf0cb2",
   "metadata": {},
   "outputs": [
    {
     "name": "stdout",
     "output_type": "stream",
     "text": [
      "BFS Traversal: 0 1 2 3 4 5 \n",
      "DFS Traversal: 0 1 3 4 5 2 \n"
     ]
    }
   ],
   "source": [
    "graph = {\n",
    "    0: [1, 2],\n",
    "    1: [0, 3, 4],\n",
    "    2: [0, 5],\n",
    "    3: [1],\n",
    "    4: [1, 5],\n",
    "    5: [2, 4]\n",
    "}\n",
    "\n",
    "# Run Traversals\n",
    "bfs(graph, 0)\n",
    "dfs(graph, 0)"
   ]
  }
 ],
 "metadata": {
  "kernelspec": {
   "display_name": ".venv",
   "language": "python",
   "name": "python3"
  },
  "language_info": {
   "codemirror_mode": {
    "name": "ipython",
    "version": 3
   },
   "file_extension": ".py",
   "mimetype": "text/x-python",
   "name": "python",
   "nbconvert_exporter": "python",
   "pygments_lexer": "ipython3",
   "version": "3.12.4"
  }
 },
 "nbformat": 4,
 "nbformat_minor": 5
}
