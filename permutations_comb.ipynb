{
 "cells": [
  {
   "cell_type": "markdown",
   "id": "70646a88",
   "metadata": {},
   "source": [
    "Subsets"
   ]
  },
  {
   "cell_type": "markdown",
   "id": "a96a19c4",
   "metadata": {},
   "source": [
    "Q - return a list of all possible distinct subsets"
   ]
  },
  {
   "cell_type": "code",
   "execution_count": null,
   "id": "864caa90",
   "metadata": {},
   "outputs": [],
   "source": [
    "# this is basically a decision tree -> either include an elment or dont\n",
    "# number of subsets = 2 ^ n\n",
    "# T.C = O(n.2^n) since we have to perform a tree for every one of the 2^n final list\n",
    "# space comp = O(n) since it is the same as the height \n",
    "\n",
    "def \n"
   ]
  },
  {
   "cell_type": "markdown",
   "id": "5375ed3f",
   "metadata": {},
   "source": [
    "Combinations"
   ]
  },
  {
   "cell_type": "markdown",
   "id": "049cca5f",
   "metadata": {},
   "source": [
    "Permutations"
   ]
  }
 ],
 "metadata": {
  "kernelspec": {
   "display_name": ".venv",
   "language": "python",
   "name": "python3"
  },
  "language_info": {
   "name": "python",
   "version": "3.12.4"
  }
 },
 "nbformat": 4,
 "nbformat_minor": 5
}
