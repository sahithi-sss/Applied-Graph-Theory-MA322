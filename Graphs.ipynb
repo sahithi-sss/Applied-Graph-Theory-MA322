{
 "cells": [
  {
   "cell_type": "markdown",
   "id": "2f17360b",
   "metadata": {},
   "source": [
    "DFS- Matrix"
   ]
  },
  {
   "cell_type": "markdown",
   "id": "1219325b",
   "metadata": {},
   "source": [
    "Q - Find the total number of ways in which you can traverse from the (0,0) point on the grid to the (n-1,m-1) point without revisiting any node on a single path. consider 1 as blocks and 0 as free paths."
   ]
  },
  {
   "cell_type": "code",
   "execution_count": 7,
   "id": "8286929d",
   "metadata": {},
   "outputs": [],
   "source": [
    "\n",
    "    \n",
    "def dfs (grid, r, c, visited):\n",
    "    ROWS , COLS = len(grid), len(grid[0])\n",
    "\n",
    "    if r == ROWS -1 and c == COLS -1:\n",
    "        return 1\n",
    "\n",
    "    if r<0 or c<0 or r== ROWS or c == COLS or grid[r][c] == 1 or (r,c) in visited :\n",
    "        return 0\n",
    "\n",
    "    visited.add((r,c))\n",
    "    count = 0\n",
    "    count += dfs(grid, r-1, c, visited)\n",
    "    count += dfs(grid, r, c-1, visited)\n",
    "    count += dfs(grid, r+1, c, visited)\n",
    "    count += dfs(grid, r, c+1, visited)\n",
    "\n",
    "    visited.remove((r,c))\n",
    "    return count\n",
    "\n",
    "\n"
   ]
  },
  {
   "cell_type": "code",
   "execution_count": 8,
   "id": "6cc35816",
   "metadata": {},
   "outputs": [
    {
     "name": "stdout",
     "output_type": "stream",
     "text": [
      "2\n"
     ]
    }
   ],
   "source": [
    "grid = [[0, 0, 0, 0],\n",
    "        [1, 1, 0, 0],\n",
    "        [0, 0, 0, 1],\n",
    "        [0, 1, 0, 0]]\n",
    "\n",
    "print(dfs(grid, 0,0, set()))"
   ]
  },
  {
   "cell_type": "markdown",
   "id": "f58c7caf",
   "metadata": {},
   "source": [
    "BFS - Matrix"
   ]
  },
  {
   "cell_type": "markdown",
   "id": "da98b3b0",
   "metadata": {},
   "source": [
    "Q - Find the shortest path from top left cell to the bottom right cell"
   ]
  },
  {
   "cell_type": "code",
   "execution_count": null,
   "id": "5a10ccf5",
   "metadata": {},
   "outputs": [],
   "source": []
  },
  {
   "cell_type": "code",
   "execution_count": null,
   "id": "19b0c042",
   "metadata": {},
   "outputs": [],
   "source": [
    "grid = [[0, 0, 0, 0],\n",
    "        [1, 1, 0, 0],\n",
    "        [0, 0, 0, 1],\n",
    "        [0, 1, 0, 0]]\n",
    "\n",
    "print(bfs(grid, 0,0, set()))"
   ]
  },
  {
   "cell_type": "markdown",
   "id": "56b549ee",
   "metadata": {},
   "source": [
    "Graph implementation using Adjacency List"
   ]
  },
  {
   "cell_type": "code",
   "execution_count": 12,
   "id": "ba92cd37",
   "metadata": {},
   "outputs": [],
   "source": [
    "class GraphNode:\n",
    "    #less preferred\n",
    "    def __init__(self, val):\n",
    "        self.val = val\n",
    "        self.neighbors = []\n",
    "\n",
    "\n",
    "adj_list = {\"A\":[], \"B\":[]} #HashMap implementation - more pref\n",
    "\n",
    "# building adj list for a directed graph-\n",
    "\n",
    "#the below is the given list of edges\n",
    "# for ex - en edge exists from A to B \n",
    "edges = [[\"A\",\"B\"], [\"B\",\"C\"], [\"B\",\"E\"], [\"C\",\"E\"],[\"E\",\"D\"]]\n",
    "\n",
    "#now the actual process of building an adjacency list-\n",
    "\n",
    "adj_list = {} #create an empty HashMap\n",
    "\n",
    "for src, destination in edges:\n",
    "    if src not in adj_list:\n",
    "        adj_list[src] = [] #inintating empty list for the source\n",
    "    \n",
    "    if destination not in adj_list:\n",
    "        adj_list[destination] = [] #inintating empty list for the destinantion\n",
    "    \n",
    "    adj_list[src].append(destination)"
   ]
  },
  {
   "cell_type": "markdown",
   "id": "5aa391f5",
   "metadata": {},
   "source": [
    "DFS - Adjacency List \n",
    "\n",
    "T.C -> O(n^v) where n = avg number of nbrs of a node in the graph and v is the total number of vertices in the graph"
   ]
  },
  {
   "cell_type": "markdown",
   "id": "c89b2ef8",
   "metadata": {},
   "source": [
    "Q - Counting number of paths"
   ]
  },
  {
   "cell_type": "code",
   "execution_count": 13,
   "id": "41eb95c7",
   "metadata": {},
   "outputs": [
    {
     "name": "stdout",
     "output_type": "stream",
     "text": [
      "2\n"
     ]
    }
   ],
   "source": [
    "# Q - Why is adjacency list easier to implement than matrix \n",
    "# -> we dont have to worry about so many edge cases\n",
    "\n",
    "def dfs(start_node, end_node, adj_list, visited):\n",
    "\n",
    "    if start_node == end_node:\n",
    "        return 1\n",
    "\n",
    "    if start_node in visited:\n",
    "        return 0\n",
    "\n",
    "    visited.add(start_node)\n",
    "    count = 0\n",
    "    for nbr in adj_list[start_node]:\n",
    "        count += dfs(nbr, end_node, adj_list, visited)\n",
    "    \n",
    "    visited.remove(start_node)\n",
    "\n",
    "    return count\n",
    "    \n",
    "\n",
    "print(dfs(\"A\",\"E\", adj_list, set()))"
   ]
  },
  {
   "cell_type": "markdown",
   "id": "3b5e1a34",
   "metadata": {},
   "source": [
    "BFS - Adjacency List"
   ]
  },
  {
   "cell_type": "code",
   "execution_count": null,
   "id": "d41fa70c",
   "metadata": {},
   "outputs": [],
   "source": []
  }
 ],
 "metadata": {
  "kernelspec": {
   "display_name": ".venv",
   "language": "python",
   "name": "python3"
  },
  "language_info": {
   "codemirror_mode": {
    "name": "ipython",
    "version": 3
   },
   "file_extension": ".py",
   "mimetype": "text/x-python",
   "name": "python",
   "nbconvert_exporter": "python",
   "pygments_lexer": "ipython3",
   "version": "3.12.4"
  }
 },
 "nbformat": 4,
 "nbformat_minor": 5
}
