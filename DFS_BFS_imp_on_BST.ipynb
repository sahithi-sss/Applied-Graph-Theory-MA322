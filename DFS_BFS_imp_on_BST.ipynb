{
 "cells": [
  {
   "cell_type": "markdown",
   "id": "cbdb2bd4",
   "metadata": {},
   "source": [
    "DFS implementation in BST\n",
    "\n",
    "DFS -> T.C = O(n)"
   ]
  },
  {
   "cell_type": "code",
   "execution_count": 1,
   "id": "55152819",
   "metadata": {},
   "outputs": [],
   "source": [
    "class TreeNode:\n",
    "    def __init__ (self,val):\n",
    "        self.val = val\n",
    "        self.left = None\n",
    "        self.right = None\n",
    "    \n",
    "def pre_order_traversal(root):\n",
    "    if not root:\n",
    "        return\n",
    "    print(root.val, end = \" \")\n",
    "    pre_order_traversal(root.left)\n",
    "    pre_order_traversal(root.right)\n",
    "\n",
    "def in_order_traversal(root):\n",
    "    if not root:\n",
    "        return\n",
    "    in_order_traversal(root.left)\n",
    "    print(root.val, end = \" \")\n",
    "    in_order_traversal(root.right)\n",
    "\n",
    "def post_order_traversal(root):\n",
    "    if not root:\n",
    "        return\n",
    "    post_order_traversal(root.left)\n",
    "    post_order_traversal(root.right)\n",
    "    print(root.val, end = \" \")\n",
    "\n"
   ]
  },
  {
   "cell_type": "code",
   "execution_count": 2,
   "id": "264e8d1a",
   "metadata": {},
   "outputs": [
    {
     "name": "stdout",
     "output_type": "stream",
     "text": [
      "Pre-order Traversal:\n",
      "1 2 4 5 3 6 \n",
      "\n",
      "In-order Traversal:\n",
      "4 2 5 1 6 3 \n",
      "\n",
      "Post-order Traversal:\n",
      "4 5 2 6 3 1 \n",
      "\n"
     ]
    }
   ],
   "source": [
    "def main() :\n",
    "    root = TreeNode(1)\n",
    "    root.left = TreeNode(2)\n",
    "    root.right = TreeNode(3)\n",
    "    root.left.left = TreeNode(4)\n",
    "    root.left.right = TreeNode(5)\n",
    "    root.right.left = TreeNode(6)\n",
    "\n",
    "    print(\"Pre-order Traversal:\")\n",
    "    pre_order_traversal(root)\n",
    "    print(\"\\n\")\n",
    "\n",
    "    print(\"In-order Traversal:\")\n",
    "    in_order_traversal(root)\n",
    "    print(\"\\n\")\n",
    "\n",
    "    print(\"Post-order Traversal:\")\n",
    "    post_order_traversal(root)\n",
    "    print(\"\\n\")\n",
    "\n",
    "main()"
   ]
  },
  {
   "cell_type": "markdown",
   "id": "f14ccd4f",
   "metadata": {},
   "source": [
    "BFS implementation in BST\n",
    "\n",
    "BFS -> TC = O(n)"
   ]
  },
  {
   "cell_type": "code",
   "execution_count": 15,
   "id": "d41956da",
   "metadata": {},
   "outputs": [],
   "source": [
    "from collections import deque\n",
    "\n",
    "class TreeNode:\n",
    "    def __init__ (self, val):\n",
    "        self.val = val\n",
    "        self.left = None\n",
    "        self.right = None\n",
    "\n",
    "def bfs(root):\n",
    "    queue = deque()\n",
    "\n",
    "    if root :\n",
    "        queue.append(root)\n",
    "    \n",
    "    level = 0\n",
    "    while len(queue) > 0:\n",
    "        print(f\" level :\", level)\n",
    "        for i in range(len(queue)):\n",
    "            curr = queue.popleft()\n",
    "            print(curr.val , end = \" \")\n",
    "            if curr.left:\n",
    "                queue.append(curr.left)\n",
    "            if curr.right:\n",
    "                queue.append(curr.right)\n",
    "        \n",
    "        level += 1\n",
    "        print(\"\\n\")\n",
    "\n"
   ]
  },
  {
   "cell_type": "code",
   "execution_count": 16,
   "id": "036124fa",
   "metadata": {},
   "outputs": [
    {
     "name": "stdout",
     "output_type": "stream",
     "text": [
      "Pre-order Traversal:\n",
      " level : 0\n",
      "1 \n",
      "\n",
      " level : 1\n",
      "2 3 \n",
      "\n",
      " level : 2\n",
      "4 5 6 \n",
      "\n",
      "\n",
      "\n"
     ]
    }
   ],
   "source": [
    "def main() :\n",
    "    root = TreeNode(1)\n",
    "    root.left = TreeNode(2)\n",
    "    root.right = TreeNode(3)\n",
    "    root.left.left = TreeNode(4)\n",
    "    root.left.right = TreeNode(5)\n",
    "    root.right.left = TreeNode(6)\n",
    "\n",
    "    print(\"Pre-order Traversal:\")\n",
    "    bfs(root)\n",
    "    print(\"\\n\")\n",
    "\n",
    "main()"
   ]
  },
  {
   "cell_type": "markdown",
   "id": "96d8d9ac",
   "metadata": {},
   "source": [
    "Backtracking / Tree Maze -> T.C = O(n)"
   ]
  },
  {
   "cell_type": "markdown",
   "id": "0926b903",
   "metadata": {},
   "source": [
    "Q1. check if there exists a path from root to leaf node , without containing any zeroes.\n",
    "\n",
    "Q2. if yes, give the path"
   ]
  },
  {
   "cell_type": "code",
   "execution_count": 17,
   "id": "c712bfc0",
   "metadata": {},
   "outputs": [],
   "source": [
    "class TreeNode:\n",
    "    def __init__ (self, val):\n",
    "        self.val = val\n",
    "        self.left = None\n",
    "        self.right = None\n",
    "    \n",
    "def can_reach(root):\n",
    "    if not root or root.val == 0 :\n",
    "        return False\n",
    "    \n",
    "    if not root.left and not root.right:\n",
    "        return False\n",
    "    if can_reach(root.left):\n",
    "        return True\n",
    "    if can_reach(root.right):\n",
    "        return True\n",
    "\n",
    "    return False\n",
    "\n",
    "def leaf_path(root, path):\n",
    "    #we implement a Stack DS\n",
    "\n",
    "    if not root or root.val == 0 :\n",
    "        return False\n",
    "    \n",
    "    path.append(root.val)\n",
    "\n",
    "    if not root.left and not root.right:\n",
    "        return True\n",
    "    if leaf_path(root.left,path):\n",
    "        return True\n",
    "    if leaf_path(root.right, path):\n",
    "        return True\n",
    "\n",
    "    path.pop()\n",
    "    return False"
   ]
  }
 ],
 "metadata": {
  "kernelspec": {
   "display_name": ".venv",
   "language": "python",
   "name": "python3"
  },
  "language_info": {
   "codemirror_mode": {
    "name": "ipython",
    "version": 3
   },
   "file_extension": ".py",
   "mimetype": "text/x-python",
   "name": "python",
   "nbconvert_exporter": "python",
   "pygments_lexer": "ipython3",
   "version": "3.12.4"
  }
 },
 "nbformat": 4,
 "nbformat_minor": 5
}
