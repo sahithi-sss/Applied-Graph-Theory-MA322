{
 "cells": [
  {
   "cell_type": "code",
   "execution_count": 1,
   "id": "80afa2dd",
   "metadata": {},
   "outputs": [],
   "source": [
    "def bellmanFord(n, edges, src):\n",
    "    dist= [float('inf')] * n\n",
    "    dist[src] = 0\n",
    "    for k in range(n-1):\n",
    "        for u, v, wt in edges:\n",
    "            if dist[u] != float('inf') and dist[v]> dist[u] + wt:\n",
    "                dist[v] = dist[u] + wt\n",
    "        \n",
    "        for u,v,wt in edges:\n",
    "            if dist[v] > dist[u] + wt:\n",
    "                print(\"Graph contains -ve wt cycles\")\n",
    "                return\n",
    "        \n",
    "        return dist"
   ]
  },
  {
   "cell_type": "code",
   "execution_count": null,
   "id": "994ddbe9",
   "metadata": {},
   "outputs": [],
   "source": []
  }
 ],
 "metadata": {
  "kernelspec": {
   "display_name": ".venv",
   "language": "python",
   "name": "python3"
  },
  "language_info": {
   "codemirror_mode": {
    "name": "ipython",
    "version": 3
   },
   "file_extension": ".py",
   "mimetype": "text/x-python",
   "name": "python",
   "nbconvert_exporter": "python",
   "pygments_lexer": "ipython3",
   "version": "3.12.4"
  }
 },
 "nbformat": 4,
 "nbformat_minor": 5
}
